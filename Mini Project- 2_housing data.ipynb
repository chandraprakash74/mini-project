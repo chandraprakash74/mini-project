{
 "cells": [
  {
   "cell_type": "markdown",
   "id": "054dec4f",
   "metadata": {},
   "source": [
    "# House Grade Prediction"
   ]
  },
  {
   "cell_type": "markdown",
   "id": "a9e777c2",
   "metadata": {},
   "source": [
    "### Build Objective\n",
    "- Build a predictive model to determine the Grade of House(A,B,C,D and E)"
   ]
  },
  {
   "cell_type": "markdown",
   "id": "67ed518e",
   "metadata": {},
   "source": [
    "### Technical Goals for Classifier \n",
    "\n",
    "- Understand the data very well. Do all transformations/ Data engineering / etc. whatever applicable\n",
    "- Perform Exploratory Data analysis\n",
    "- Carry out all data mining task\n",
    "- Identify the sailent features that will determine the best results\n",
    "- Perform the evaluation to select the best algorithms\n"
   ]
  },
  {
   "cell_type": "code",
   "execution_count": 63,
   "id": "bedf7fda",
   "metadata": {},
   "outputs": [],
   "source": [
    "# import libraries\n",
    "import numpy as np\n",
    "import pandas as pd\n",
    "import warnings\n",
    "warnings.filterwarnings(\"ignore\")\n",
    "\n",
    "import matplotlib.pyplot as plt\n",
    "import seaborn as sns\n",
    "\n",
    "from sklearn.model_selection import train_test_split, StratifiedKFold, RepeatedStratifiedKFold   # splitting the data\n",
    "from sklearn import preprocessing                      # for data preprocessing functions\n",
    "from sklearn.preprocessing import MinMaxScaler, StandardScaler, LabelEncoder      # scaling and label encoding\n",
    "from sklearn.metrics import confusion_matrix,accuracy_score,precision_score       # accuracy calculation or evaluation\n",
    "from sklearn.metrics import recall_score,f1_score,roc_auc_score,roc_curve      # accuracy calculation or evaluation"
   ]
  },
  {
   "cell_type": "code",
   "execution_count": 2,
   "id": "bf8ce80f",
   "metadata": {},
   "outputs": [
    {
     "data": {
      "text/html": [
       "<div>\n",
       "<style scoped>\n",
       "    .dataframe tbody tr th:only-of-type {\n",
       "        vertical-align: middle;\n",
       "    }\n",
       "\n",
       "    .dataframe tbody tr th {\n",
       "        vertical-align: top;\n",
       "    }\n",
       "\n",
       "    .dataframe thead th {\n",
       "        text-align: right;\n",
       "    }\n",
       "</style>\n",
       "<table border=\"1\" class=\"dataframe\">\n",
       "  <thead>\n",
       "    <tr style=\"text-align: right;\">\n",
       "      <th></th>\n",
       "      <th>Id</th>\n",
       "      <th>Area(total)</th>\n",
       "      <th>Trooms</th>\n",
       "      <th>Nbedrooms</th>\n",
       "      <th>Nbwashrooms</th>\n",
       "      <th>Twashrooms</th>\n",
       "      <th>roof</th>\n",
       "      <th>Roof(Area)</th>\n",
       "      <th>Lawn(Area)</th>\n",
       "      <th>Nfloors</th>\n",
       "      <th>API</th>\n",
       "      <th>ANB</th>\n",
       "      <th>Expected price</th>\n",
       "      <th>Grade</th>\n",
       "    </tr>\n",
       "  </thead>\n",
       "  <tbody>\n",
       "    <tr>\n",
       "      <th>0</th>\n",
       "      <td>1</td>\n",
       "      <td>339</td>\n",
       "      <td>6</td>\n",
       "      <td>5</td>\n",
       "      <td>4</td>\n",
       "      <td>6</td>\n",
       "      <td>NO</td>\n",
       "      <td>0</td>\n",
       "      <td>76</td>\n",
       "      <td>2</td>\n",
       "      <td>79</td>\n",
       "      <td>6</td>\n",
       "      <td>3481</td>\n",
       "      <td>D</td>\n",
       "    </tr>\n",
       "    <tr>\n",
       "      <th>1</th>\n",
       "      <td>2</td>\n",
       "      <td>358</td>\n",
       "      <td>5</td>\n",
       "      <td>4</td>\n",
       "      <td>3</td>\n",
       "      <td>4</td>\n",
       "      <td>YES</td>\n",
       "      <td>71</td>\n",
       "      <td>96</td>\n",
       "      <td>3</td>\n",
       "      <td>72</td>\n",
       "      <td>4</td>\n",
       "      <td>3510</td>\n",
       "      <td>D</td>\n",
       "    </tr>\n",
       "    <tr>\n",
       "      <th>2</th>\n",
       "      <td>3</td>\n",
       "      <td>324</td>\n",
       "      <td>7</td>\n",
       "      <td>5</td>\n",
       "      <td>4</td>\n",
       "      <td>5</td>\n",
       "      <td>YES</td>\n",
       "      <td>101</td>\n",
       "      <td>117</td>\n",
       "      <td>5</td>\n",
       "      <td>64</td>\n",
       "      <td>3</td>\n",
       "      <td>3748</td>\n",
       "      <td>C</td>\n",
       "    </tr>\n",
       "    <tr>\n",
       "      <th>3</th>\n",
       "      <td>4</td>\n",
       "      <td>330</td>\n",
       "      <td>6</td>\n",
       "      <td>4</td>\n",
       "      <td>3</td>\n",
       "      <td>5</td>\n",
       "      <td>YES</td>\n",
       "      <td>101</td>\n",
       "      <td>82</td>\n",
       "      <td>2</td>\n",
       "      <td>59</td>\n",
       "      <td>2</td>\n",
       "      <td>3134</td>\n",
       "      <td>D</td>\n",
       "    </tr>\n",
       "    <tr>\n",
       "      <th>4</th>\n",
       "      <td>5</td>\n",
       "      <td>320</td>\n",
       "      <td>7</td>\n",
       "      <td>4</td>\n",
       "      <td>4</td>\n",
       "      <td>5</td>\n",
       "      <td>NO</td>\n",
       "      <td>0</td>\n",
       "      <td>75</td>\n",
       "      <td>3</td>\n",
       "      <td>40</td>\n",
       "      <td>1</td>\n",
       "      <td>3843</td>\n",
       "      <td>D</td>\n",
       "    </tr>\n",
       "  </tbody>\n",
       "</table>\n",
       "</div>"
      ],
      "text/plain": [
       "   Id  Area(total)  Trooms  Nbedrooms  Nbwashrooms  Twashrooms roof  \\\n",
       "0   1          339       6          5            4           6   NO   \n",
       "1   2          358       5          4            3           4  YES   \n",
       "2   3          324       7          5            4           5  YES   \n",
       "3   4          330       6          4            3           5  YES   \n",
       "4   5          320       7          4            4           5   NO   \n",
       "\n",
       "   Roof(Area)  Lawn(Area)  Nfloors  API  ANB  Expected price Grade  \n",
       "0           0          76        2   79    6            3481     D  \n",
       "1          71          96        3   72    4            3510     D  \n",
       "2         101         117        5   64    3            3748     C  \n",
       "3         101          82        2   59    2            3134     D  \n",
       "4           0          75        3   40    1            3843     D  "
      ]
     },
     "execution_count": 2,
     "metadata": {},
     "output_type": "execute_result"
    }
   ],
   "source": [
    "# load the four dataset\n",
    "df =pd.read_csv(r\"C:\\Users\\DELL\\Downloads\\DS3_C6_S2_Classification_HouseGrade_Data_Project.csv\")\n",
    "df.head()"
   ]
  },
  {
   "cell_type": "code",
   "execution_count": 3,
   "id": "c983a407",
   "metadata": {},
   "outputs": [
    {
     "data": {
      "text/plain": [
       "(3000, 14)"
      ]
     },
     "execution_count": 3,
     "metadata": {},
     "output_type": "execute_result"
    }
   ],
   "source": [
    "# checking structure\n",
    "\n",
    "df.shape  # here we have 3000 rows and 14 columns"
   ]
  },
  {
   "cell_type": "code",
   "execution_count": 4,
   "id": "b0b96761",
   "metadata": {},
   "outputs": [
    {
     "data": {
      "text/plain": [
       "Id                 int64\n",
       "Area(total)        int64\n",
       "Trooms             int64\n",
       "Nbedrooms          int64\n",
       "Nbwashrooms        int64\n",
       "Twashrooms         int64\n",
       "roof              object\n",
       "Roof(Area)         int64\n",
       "Lawn(Area)         int64\n",
       "Nfloors            int64\n",
       "API                int64\n",
       "ANB                int64\n",
       "Expected price     int64\n",
       "Grade             object\n",
       "dtype: object"
      ]
     },
     "execution_count": 4,
     "metadata": {},
     "output_type": "execute_result"
    }
   ],
   "source": [
    "# checking data types\n",
    "df.dtypes"
   ]
  },
  {
   "cell_type": "code",
   "execution_count": 5,
   "id": "e374fb07",
   "metadata": {},
   "outputs": [
    {
     "data": {
      "text/plain": [
       "42000"
      ]
     },
     "execution_count": 5,
     "metadata": {},
     "output_type": "execute_result"
    }
   ],
   "source": [
    "# checking size\n",
    "df.size  # here we have size of our data set that's 42000"
   ]
  },
  {
   "cell_type": "code",
   "execution_count": 6,
   "id": "9e1e9354",
   "metadata": {},
   "outputs": [
    {
     "data": {
      "text/html": [
       "<div>\n",
       "<style scoped>\n",
       "    .dataframe tbody tr th:only-of-type {\n",
       "        vertical-align: middle;\n",
       "    }\n",
       "\n",
       "    .dataframe tbody tr th {\n",
       "        vertical-align: top;\n",
       "    }\n",
       "\n",
       "    .dataframe thead th {\n",
       "        text-align: right;\n",
       "    }\n",
       "</style>\n",
       "<table border=\"1\" class=\"dataframe\">\n",
       "  <thead>\n",
       "    <tr style=\"text-align: right;\">\n",
       "      <th></th>\n",
       "      <th>count</th>\n",
       "      <th>mean</th>\n",
       "      <th>std</th>\n",
       "      <th>min</th>\n",
       "      <th>25%</th>\n",
       "      <th>50%</th>\n",
       "      <th>75%</th>\n",
       "      <th>max</th>\n",
       "    </tr>\n",
       "  </thead>\n",
       "  <tbody>\n",
       "    <tr>\n",
       "      <th>Id</th>\n",
       "      <td>3000.0</td>\n",
       "      <td>1500.500000</td>\n",
       "      <td>866.169729</td>\n",
       "      <td>1.0</td>\n",
       "      <td>750.75</td>\n",
       "      <td>1500.5</td>\n",
       "      <td>2250.25</td>\n",
       "      <td>3000.0</td>\n",
       "    </tr>\n",
       "    <tr>\n",
       "      <th>Area(total)</th>\n",
       "      <td>3000.0</td>\n",
       "      <td>325.117000</td>\n",
       "      <td>20.507742</td>\n",
       "      <td>290.0</td>\n",
       "      <td>308.00</td>\n",
       "      <td>325.0</td>\n",
       "      <td>343.00</td>\n",
       "      <td>360.0</td>\n",
       "    </tr>\n",
       "    <tr>\n",
       "      <th>Trooms</th>\n",
       "      <td>3000.0</td>\n",
       "      <td>7.021667</td>\n",
       "      <td>1.421221</td>\n",
       "      <td>5.0</td>\n",
       "      <td>6.00</td>\n",
       "      <td>7.0</td>\n",
       "      <td>8.00</td>\n",
       "      <td>9.0</td>\n",
       "    </tr>\n",
       "    <tr>\n",
       "      <th>Nbedrooms</th>\n",
       "      <td>3000.0</td>\n",
       "      <td>5.023000</td>\n",
       "      <td>1.634838</td>\n",
       "      <td>2.0</td>\n",
       "      <td>4.00</td>\n",
       "      <td>5.0</td>\n",
       "      <td>6.00</td>\n",
       "      <td>8.0</td>\n",
       "    </tr>\n",
       "    <tr>\n",
       "      <th>Nbwashrooms</th>\n",
       "      <td>3000.0</td>\n",
       "      <td>4.513667</td>\n",
       "      <td>1.715263</td>\n",
       "      <td>1.0</td>\n",
       "      <td>3.00</td>\n",
       "      <td>4.0</td>\n",
       "      <td>6.00</td>\n",
       "      <td>8.0</td>\n",
       "    </tr>\n",
       "    <tr>\n",
       "      <th>Twashrooms</th>\n",
       "      <td>3000.0</td>\n",
       "      <td>6.010667</td>\n",
       "      <td>1.786136</td>\n",
       "      <td>2.0</td>\n",
       "      <td>5.00</td>\n",
       "      <td>6.0</td>\n",
       "      <td>7.00</td>\n",
       "      <td>10.0</td>\n",
       "    </tr>\n",
       "    <tr>\n",
       "      <th>Roof(Area)</th>\n",
       "      <td>3000.0</td>\n",
       "      <td>48.980667</td>\n",
       "      <td>48.746641</td>\n",
       "      <td>0.0</td>\n",
       "      <td>0.00</td>\n",
       "      <td>71.0</td>\n",
       "      <td>96.00</td>\n",
       "      <td>120.0</td>\n",
       "    </tr>\n",
       "    <tr>\n",
       "      <th>Lawn(Area)</th>\n",
       "      <td>3000.0</td>\n",
       "      <td>95.609333</td>\n",
       "      <td>14.837388</td>\n",
       "      <td>70.0</td>\n",
       "      <td>83.00</td>\n",
       "      <td>96.0</td>\n",
       "      <td>109.00</td>\n",
       "      <td>120.0</td>\n",
       "    </tr>\n",
       "    <tr>\n",
       "      <th>Nfloors</th>\n",
       "      <td>3000.0</td>\n",
       "      <td>4.013333</td>\n",
       "      <td>1.621532</td>\n",
       "      <td>1.0</td>\n",
       "      <td>3.00</td>\n",
       "      <td>4.0</td>\n",
       "      <td>5.00</td>\n",
       "      <td>7.0</td>\n",
       "    </tr>\n",
       "    <tr>\n",
       "      <th>API</th>\n",
       "      <td>3000.0</td>\n",
       "      <td>70.190667</td>\n",
       "      <td>17.563460</td>\n",
       "      <td>40.0</td>\n",
       "      <td>55.00</td>\n",
       "      <td>70.0</td>\n",
       "      <td>85.00</td>\n",
       "      <td>100.0</td>\n",
       "    </tr>\n",
       "    <tr>\n",
       "      <th>ANB</th>\n",
       "      <td>3000.0</td>\n",
       "      <td>3.479000</td>\n",
       "      <td>1.694260</td>\n",
       "      <td>1.0</td>\n",
       "      <td>2.00</td>\n",
       "      <td>4.0</td>\n",
       "      <td>5.00</td>\n",
       "      <td>6.0</td>\n",
       "    </tr>\n",
       "    <tr>\n",
       "      <th>Expected price</th>\n",
       "      <td>3000.0</td>\n",
       "      <td>3782.938333</td>\n",
       "      <td>567.189995</td>\n",
       "      <td>2504.0</td>\n",
       "      <td>3354.00</td>\n",
       "      <td>3771.0</td>\n",
       "      <td>4208.00</td>\n",
       "      <td>5216.0</td>\n",
       "    </tr>\n",
       "  </tbody>\n",
       "</table>\n",
       "</div>"
      ],
      "text/plain": [
       "                 count         mean         std     min      25%     50%  \\\n",
       "Id              3000.0  1500.500000  866.169729     1.0   750.75  1500.5   \n",
       "Area(total)     3000.0   325.117000   20.507742   290.0   308.00   325.0   \n",
       "Trooms          3000.0     7.021667    1.421221     5.0     6.00     7.0   \n",
       "Nbedrooms       3000.0     5.023000    1.634838     2.0     4.00     5.0   \n",
       "Nbwashrooms     3000.0     4.513667    1.715263     1.0     3.00     4.0   \n",
       "Twashrooms      3000.0     6.010667    1.786136     2.0     5.00     6.0   \n",
       "Roof(Area)      3000.0    48.980667   48.746641     0.0     0.00    71.0   \n",
       "Lawn(Area)      3000.0    95.609333   14.837388    70.0    83.00    96.0   \n",
       "Nfloors         3000.0     4.013333    1.621532     1.0     3.00     4.0   \n",
       "API             3000.0    70.190667   17.563460    40.0    55.00    70.0   \n",
       "ANB             3000.0     3.479000    1.694260     1.0     2.00     4.0   \n",
       "Expected price  3000.0  3782.938333  567.189995  2504.0  3354.00  3771.0   \n",
       "\n",
       "                    75%     max  \n",
       "Id              2250.25  3000.0  \n",
       "Area(total)      343.00   360.0  \n",
       "Trooms             8.00     9.0  \n",
       "Nbedrooms          6.00     8.0  \n",
       "Nbwashrooms        6.00     8.0  \n",
       "Twashrooms         7.00    10.0  \n",
       "Roof(Area)        96.00   120.0  \n",
       "Lawn(Area)       109.00   120.0  \n",
       "Nfloors            5.00     7.0  \n",
       "API               85.00   100.0  \n",
       "ANB                5.00     6.0  \n",
       "Expected price  4208.00  5216.0  "
      ]
     },
     "execution_count": 6,
     "metadata": {},
     "output_type": "execute_result"
    }
   ],
   "source": [
    "# summarize data\n",
    "\n",
    "df.describe().T  # here we find count mean max standar deviation of each column for whole data set"
   ]
  },
  {
   "cell_type": "code",
   "execution_count": 7,
   "id": "26e3a8ec",
   "metadata": {},
   "outputs": [
    {
     "name": "stdout",
     "output_type": "stream",
     "text": [
      "<class 'pandas.core.frame.DataFrame'>\n",
      "RangeIndex: 3000 entries, 0 to 2999\n",
      "Data columns (total 14 columns):\n",
      " #   Column          Non-Null Count  Dtype \n",
      "---  ------          --------------  ----- \n",
      " 0   Id              3000 non-null   int64 \n",
      " 1   Area(total)     3000 non-null   int64 \n",
      " 2   Trooms          3000 non-null   int64 \n",
      " 3   Nbedrooms       3000 non-null   int64 \n",
      " 4   Nbwashrooms     3000 non-null   int64 \n",
      " 5   Twashrooms      3000 non-null   int64 \n",
      " 6   roof            3000 non-null   object\n",
      " 7   Roof(Area)      3000 non-null   int64 \n",
      " 8   Lawn(Area)      3000 non-null   int64 \n",
      " 9   Nfloors         3000 non-null   int64 \n",
      " 10  API             3000 non-null   int64 \n",
      " 11  ANB             3000 non-null   int64 \n",
      " 12  Expected price  3000 non-null   int64 \n",
      " 13  Grade           3000 non-null   object\n",
      "dtypes: int64(12), object(2)\n",
      "memory usage: 328.2+ KB\n"
     ]
    }
   ],
   "source": [
    "# checking info\n",
    "\n",
    "df.info()"
   ]
  },
  {
   "cell_type": "code",
   "execution_count": 8,
   "id": "c6f180ec",
   "metadata": {},
   "outputs": [
    {
     "data": {
      "text/plain": [
       "Id                0\n",
       "Area(total)       0\n",
       "Trooms            0\n",
       "Nbedrooms         0\n",
       "Nbwashrooms       0\n",
       "Twashrooms        0\n",
       "roof              0\n",
       "Roof(Area)        0\n",
       "Lawn(Area)        0\n",
       "Nfloors           0\n",
       "API               0\n",
       "ANB               0\n",
       "Expected price    0\n",
       "Grade             0\n",
       "dtype: int64"
      ]
     },
     "execution_count": 8,
     "metadata": {},
     "output_type": "execute_result"
    }
   ],
   "source": [
    "# checking null values\n",
    "df.isnull().sum()  "
   ]
  },
  {
   "cell_type": "code",
   "execution_count": 9,
   "id": "686f28fa",
   "metadata": {},
   "outputs": [],
   "source": [
    "# there is no null value prsent in dataset"
   ]
  },
  {
   "cell_type": "code",
   "execution_count": 10,
   "id": "53f08742",
   "metadata": {},
   "outputs": [
    {
     "data": {
      "text/plain": [
       "0"
      ]
     },
     "execution_count": 10,
     "metadata": {},
     "output_type": "execute_result"
    }
   ],
   "source": [
    "#Checking for Duplicate entries\n",
    "df.drop(\"Id\",axis=1).duplicated().sum()  # there is no duplicate value"
   ]
  },
  {
   "cell_type": "code",
   "execution_count": 11,
   "id": "e0ac657d",
   "metadata": {},
   "outputs": [],
   "source": [
    "col = ['roof','Grade']\n",
    "label_encoder = LabelEncoder()\n",
    "for i in col:\n",
    "    df[i] = df[i].astype('category')                   # converting non numeric to categorical\n",
    "    df[i] = label_encoder.fit_transform(df[i])         # converting categorical to numeric dtype"
   ]
  },
  {
   "cell_type": "code",
   "execution_count": 12,
   "id": "f4750789",
   "metadata": {},
   "outputs": [],
   "source": [
    "#here we have 2 object column in dataset for that we apply label encoding(converting to numerical so machine can read that data)"
   ]
  },
  {
   "cell_type": "code",
   "execution_count": 13,
   "id": "d1b130fd",
   "metadata": {},
   "outputs": [
    {
     "data": {
      "text/html": [
       "<div>\n",
       "<style scoped>\n",
       "    .dataframe tbody tr th:only-of-type {\n",
       "        vertical-align: middle;\n",
       "    }\n",
       "\n",
       "    .dataframe tbody tr th {\n",
       "        vertical-align: top;\n",
       "    }\n",
       "\n",
       "    .dataframe thead th {\n",
       "        text-align: right;\n",
       "    }\n",
       "</style>\n",
       "<table border=\"1\" class=\"dataframe\">\n",
       "  <thead>\n",
       "    <tr style=\"text-align: right;\">\n",
       "      <th></th>\n",
       "      <th>Id</th>\n",
       "      <th>Area(total)</th>\n",
       "      <th>Trooms</th>\n",
       "      <th>Nbedrooms</th>\n",
       "      <th>Nbwashrooms</th>\n",
       "      <th>Twashrooms</th>\n",
       "      <th>roof</th>\n",
       "      <th>Roof(Area)</th>\n",
       "      <th>Lawn(Area)</th>\n",
       "      <th>Nfloors</th>\n",
       "      <th>API</th>\n",
       "      <th>ANB</th>\n",
       "      <th>Expected price</th>\n",
       "      <th>Grade</th>\n",
       "    </tr>\n",
       "  </thead>\n",
       "  <tbody>\n",
       "    <tr>\n",
       "      <th>0</th>\n",
       "      <td>1</td>\n",
       "      <td>339</td>\n",
       "      <td>6</td>\n",
       "      <td>5</td>\n",
       "      <td>4</td>\n",
       "      <td>6</td>\n",
       "      <td>0</td>\n",
       "      <td>0</td>\n",
       "      <td>76</td>\n",
       "      <td>2</td>\n",
       "      <td>79</td>\n",
       "      <td>6</td>\n",
       "      <td>3481</td>\n",
       "      <td>3</td>\n",
       "    </tr>\n",
       "    <tr>\n",
       "      <th>1</th>\n",
       "      <td>2</td>\n",
       "      <td>358</td>\n",
       "      <td>5</td>\n",
       "      <td>4</td>\n",
       "      <td>3</td>\n",
       "      <td>4</td>\n",
       "      <td>1</td>\n",
       "      <td>71</td>\n",
       "      <td>96</td>\n",
       "      <td>3</td>\n",
       "      <td>72</td>\n",
       "      <td>4</td>\n",
       "      <td>3510</td>\n",
       "      <td>3</td>\n",
       "    </tr>\n",
       "    <tr>\n",
       "      <th>2</th>\n",
       "      <td>3</td>\n",
       "      <td>324</td>\n",
       "      <td>7</td>\n",
       "      <td>5</td>\n",
       "      <td>4</td>\n",
       "      <td>5</td>\n",
       "      <td>1</td>\n",
       "      <td>101</td>\n",
       "      <td>117</td>\n",
       "      <td>5</td>\n",
       "      <td>64</td>\n",
       "      <td>3</td>\n",
       "      <td>3748</td>\n",
       "      <td>2</td>\n",
       "    </tr>\n",
       "    <tr>\n",
       "      <th>3</th>\n",
       "      <td>4</td>\n",
       "      <td>330</td>\n",
       "      <td>6</td>\n",
       "      <td>4</td>\n",
       "      <td>3</td>\n",
       "      <td>5</td>\n",
       "      <td>1</td>\n",
       "      <td>101</td>\n",
       "      <td>82</td>\n",
       "      <td>2</td>\n",
       "      <td>59</td>\n",
       "      <td>2</td>\n",
       "      <td>3134</td>\n",
       "      <td>3</td>\n",
       "    </tr>\n",
       "    <tr>\n",
       "      <th>4</th>\n",
       "      <td>5</td>\n",
       "      <td>320</td>\n",
       "      <td>7</td>\n",
       "      <td>4</td>\n",
       "      <td>4</td>\n",
       "      <td>5</td>\n",
       "      <td>0</td>\n",
       "      <td>0</td>\n",
       "      <td>75</td>\n",
       "      <td>3</td>\n",
       "      <td>40</td>\n",
       "      <td>1</td>\n",
       "      <td>3843</td>\n",
       "      <td>3</td>\n",
       "    </tr>\n",
       "  </tbody>\n",
       "</table>\n",
       "</div>"
      ],
      "text/plain": [
       "   Id  Area(total)  Trooms  Nbedrooms  Nbwashrooms  Twashrooms  roof  \\\n",
       "0   1          339       6          5            4           6     0   \n",
       "1   2          358       5          4            3           4     1   \n",
       "2   3          324       7          5            4           5     1   \n",
       "3   4          330       6          4            3           5     1   \n",
       "4   5          320       7          4            4           5     0   \n",
       "\n",
       "   Roof(Area)  Lawn(Area)  Nfloors  API  ANB  Expected price  Grade  \n",
       "0           0          76        2   79    6            3481      3  \n",
       "1          71          96        3   72    4            3510      3  \n",
       "2         101         117        5   64    3            3748      2  \n",
       "3         101          82        2   59    2            3134      3  \n",
       "4           0          75        3   40    1            3843      3  "
      ]
     },
     "execution_count": 13,
     "metadata": {},
     "output_type": "execute_result"
    }
   ],
   "source": [
    "df.head()    # after conversion we can see it's converting in numeric and some speciic number assign for that"
   ]
  },
  {
   "cell_type": "code",
   "execution_count": 14,
   "id": "cea88dc5",
   "metadata": {},
   "outputs": [],
   "source": [
    "# like that i'm mentioning for Grade :- 0 = A, 1 = B, C = 2, D = 3, E = 4"
   ]
  },
  {
   "cell_type": "code",
   "execution_count": 15,
   "id": "8df5508c",
   "metadata": {},
   "outputs": [
    {
     "data": {
      "text/plain": [
       "Id                int64\n",
       "Area(total)       int64\n",
       "Trooms            int64\n",
       "Nbedrooms         int64\n",
       "Nbwashrooms       int64\n",
       "Twashrooms        int64\n",
       "roof              int32\n",
       "Roof(Area)        int64\n",
       "Lawn(Area)        int64\n",
       "Nfloors           int64\n",
       "API               int64\n",
       "ANB               int64\n",
       "Expected price    int64\n",
       "Grade             int32\n",
       "dtype: object"
      ]
     },
     "execution_count": 15,
     "metadata": {},
     "output_type": "execute_result"
    }
   ],
   "source": [
    "# checking data types again\n",
    "df.dtypes    # now all columns in numeric form so macine can read easily and show the output"
   ]
  },
  {
   "cell_type": "code",
   "execution_count": 16,
   "id": "fc8c339b",
   "metadata": {},
   "outputs": [
    {
     "data": {
      "text/plain": [
       "Id               -0.006074\n",
       "Area(total)      -0.177332\n",
       "Trooms           -0.875145\n",
       "Nbedrooms        -0.865389\n",
       "Nbwashrooms      -0.847319\n",
       "Twashrooms       -0.819280\n",
       "roof             -0.166635\n",
       "Roof(Area)       -0.170259\n",
       "Lawn(Area)       -0.051200\n",
       "Nfloors          -0.787623\n",
       "API              -0.099000\n",
       "ANB              -0.024025\n",
       "Expected price   -0.760820\n",
       "Grade             1.000000\n",
       "Name: Grade, dtype: float64"
      ]
     },
     "execution_count": 16,
     "metadata": {},
     "output_type": "execute_result"
    }
   ],
   "source": [
    "# m-1)\n",
    "# checking correlation for our target variable\n",
    "\n",
    "df.corr()['Grade'] "
   ]
  },
  {
   "cell_type": "code",
   "execution_count": 17,
   "id": "66f01799",
   "metadata": {},
   "outputs": [
    {
     "data": {
      "text/html": [
       "<div>\n",
       "<style scoped>\n",
       "    .dataframe tbody tr th:only-of-type {\n",
       "        vertical-align: middle;\n",
       "    }\n",
       "\n",
       "    .dataframe tbody tr th {\n",
       "        vertical-align: top;\n",
       "    }\n",
       "\n",
       "    .dataframe thead th {\n",
       "        text-align: right;\n",
       "    }\n",
       "</style>\n",
       "<table border=\"1\" class=\"dataframe\">\n",
       "  <thead>\n",
       "    <tr style=\"text-align: right;\">\n",
       "      <th></th>\n",
       "      <th>Id</th>\n",
       "      <th>Area(total)</th>\n",
       "      <th>Trooms</th>\n",
       "      <th>Nbedrooms</th>\n",
       "      <th>Nbwashrooms</th>\n",
       "      <th>Twashrooms</th>\n",
       "      <th>roof</th>\n",
       "      <th>Roof(Area)</th>\n",
       "      <th>Lawn(Area)</th>\n",
       "      <th>Nfloors</th>\n",
       "      <th>API</th>\n",
       "      <th>ANB</th>\n",
       "      <th>Expected price</th>\n",
       "      <th>Grade</th>\n",
       "    </tr>\n",
       "  </thead>\n",
       "  <tbody>\n",
       "    <tr>\n",
       "      <th>Id</th>\n",
       "      <td>1.000000</td>\n",
       "      <td>0.003186</td>\n",
       "      <td>0.003165</td>\n",
       "      <td>0.004814</td>\n",
       "      <td>0.003496</td>\n",
       "      <td>0.001092</td>\n",
       "      <td>0.011059</td>\n",
       "      <td>0.013046</td>\n",
       "      <td>0.006309</td>\n",
       "      <td>-0.010939</td>\n",
       "      <td>-0.003739</td>\n",
       "      <td>-0.013219</td>\n",
       "      <td>0.009216</td>\n",
       "      <td>-0.006074</td>\n",
       "    </tr>\n",
       "    <tr>\n",
       "      <th>Area(total)</th>\n",
       "      <td>0.003186</td>\n",
       "      <td>1.000000</td>\n",
       "      <td>0.019041</td>\n",
       "      <td>0.031328</td>\n",
       "      <td>0.031819</td>\n",
       "      <td>0.038509</td>\n",
       "      <td>0.014229</td>\n",
       "      <td>0.017029</td>\n",
       "      <td>-0.002118</td>\n",
       "      <td>0.016819</td>\n",
       "      <td>-0.000182</td>\n",
       "      <td>-0.010846</td>\n",
       "      <td>0.274507</td>\n",
       "      <td>-0.177332</td>\n",
       "    </tr>\n",
       "    <tr>\n",
       "      <th>Trooms</th>\n",
       "      <td>0.003165</td>\n",
       "      <td>0.019041</td>\n",
       "      <td>1.000000</td>\n",
       "      <td>0.865878</td>\n",
       "      <td>0.827072</td>\n",
       "      <td>0.794870</td>\n",
       "      <td>0.025142</td>\n",
       "      <td>0.026550</td>\n",
       "      <td>0.009557</td>\n",
       "      <td>0.862367</td>\n",
       "      <td>0.007502</td>\n",
       "      <td>0.007321</td>\n",
       "      <td>0.820170</td>\n",
       "      <td>-0.875145</td>\n",
       "    </tr>\n",
       "    <tr>\n",
       "      <th>Nbedrooms</th>\n",
       "      <td>0.004814</td>\n",
       "      <td>0.031328</td>\n",
       "      <td>0.865878</td>\n",
       "      <td>1.000000</td>\n",
       "      <td>0.956578</td>\n",
       "      <td>0.919158</td>\n",
       "      <td>0.023058</td>\n",
       "      <td>0.025073</td>\n",
       "      <td>0.000054</td>\n",
       "      <td>0.742132</td>\n",
       "      <td>0.002820</td>\n",
       "      <td>0.015403</td>\n",
       "      <td>0.715687</td>\n",
       "      <td>-0.865389</td>\n",
       "    </tr>\n",
       "    <tr>\n",
       "      <th>Nbwashrooms</th>\n",
       "      <td>0.003496</td>\n",
       "      <td>0.031819</td>\n",
       "      <td>0.827072</td>\n",
       "      <td>0.956578</td>\n",
       "      <td>1.000000</td>\n",
       "      <td>0.960007</td>\n",
       "      <td>0.028549</td>\n",
       "      <td>0.028832</td>\n",
       "      <td>0.006617</td>\n",
       "      <td>0.711936</td>\n",
       "      <td>0.011413</td>\n",
       "      <td>0.008475</td>\n",
       "      <td>0.683659</td>\n",
       "      <td>-0.847319</td>\n",
       "    </tr>\n",
       "    <tr>\n",
       "      <th>Twashrooms</th>\n",
       "      <td>0.001092</td>\n",
       "      <td>0.038509</td>\n",
       "      <td>0.794870</td>\n",
       "      <td>0.919158</td>\n",
       "      <td>0.960007</td>\n",
       "      <td>1.000000</td>\n",
       "      <td>0.028212</td>\n",
       "      <td>0.028763</td>\n",
       "      <td>0.008386</td>\n",
       "      <td>0.684966</td>\n",
       "      <td>0.012361</td>\n",
       "      <td>0.016492</td>\n",
       "      <td>0.654627</td>\n",
       "      <td>-0.819280</td>\n",
       "    </tr>\n",
       "    <tr>\n",
       "      <th>roof</th>\n",
       "      <td>0.011059</td>\n",
       "      <td>0.014229</td>\n",
       "      <td>0.025142</td>\n",
       "      <td>0.023058</td>\n",
       "      <td>0.028549</td>\n",
       "      <td>0.028212</td>\n",
       "      <td>1.000000</td>\n",
       "      <td>0.976561</td>\n",
       "      <td>-0.004640</td>\n",
       "      <td>0.014985</td>\n",
       "      <td>-0.007983</td>\n",
       "      <td>-0.020511</td>\n",
       "      <td>0.007880</td>\n",
       "      <td>-0.166635</td>\n",
       "    </tr>\n",
       "    <tr>\n",
       "      <th>Roof(Area)</th>\n",
       "      <td>0.013046</td>\n",
       "      <td>0.017029</td>\n",
       "      <td>0.026550</td>\n",
       "      <td>0.025073</td>\n",
       "      <td>0.028832</td>\n",
       "      <td>0.028763</td>\n",
       "      <td>0.976561</td>\n",
       "      <td>1.000000</td>\n",
       "      <td>-0.006831</td>\n",
       "      <td>0.013840</td>\n",
       "      <td>-0.006331</td>\n",
       "      <td>-0.015529</td>\n",
       "      <td>0.009346</td>\n",
       "      <td>-0.170259</td>\n",
       "    </tr>\n",
       "    <tr>\n",
       "      <th>Lawn(Area)</th>\n",
       "      <td>0.006309</td>\n",
       "      <td>-0.002118</td>\n",
       "      <td>0.009557</td>\n",
       "      <td>0.000054</td>\n",
       "      <td>0.006617</td>\n",
       "      <td>0.008386</td>\n",
       "      <td>-0.004640</td>\n",
       "      <td>-0.006831</td>\n",
       "      <td>1.000000</td>\n",
       "      <td>0.013771</td>\n",
       "      <td>0.011477</td>\n",
       "      <td>0.025751</td>\n",
       "      <td>0.011561</td>\n",
       "      <td>-0.051200</td>\n",
       "    </tr>\n",
       "    <tr>\n",
       "      <th>Nfloors</th>\n",
       "      <td>-0.010939</td>\n",
       "      <td>0.016819</td>\n",
       "      <td>0.862367</td>\n",
       "      <td>0.742132</td>\n",
       "      <td>0.711936</td>\n",
       "      <td>0.684966</td>\n",
       "      <td>0.014985</td>\n",
       "      <td>0.013840</td>\n",
       "      <td>0.013771</td>\n",
       "      <td>1.000000</td>\n",
       "      <td>-0.002255</td>\n",
       "      <td>0.020614</td>\n",
       "      <td>0.714598</td>\n",
       "      <td>-0.787623</td>\n",
       "    </tr>\n",
       "    <tr>\n",
       "      <th>API</th>\n",
       "      <td>-0.003739</td>\n",
       "      <td>-0.000182</td>\n",
       "      <td>0.007502</td>\n",
       "      <td>0.002820</td>\n",
       "      <td>0.011413</td>\n",
       "      <td>0.012361</td>\n",
       "      <td>-0.007983</td>\n",
       "      <td>-0.006331</td>\n",
       "      <td>0.011477</td>\n",
       "      <td>-0.002255</td>\n",
       "      <td>1.000000</td>\n",
       "      <td>-0.025694</td>\n",
       "      <td>0.016575</td>\n",
       "      <td>-0.099000</td>\n",
       "    </tr>\n",
       "    <tr>\n",
       "      <th>ANB</th>\n",
       "      <td>-0.013219</td>\n",
       "      <td>-0.010846</td>\n",
       "      <td>0.007321</td>\n",
       "      <td>0.015403</td>\n",
       "      <td>0.008475</td>\n",
       "      <td>0.016492</td>\n",
       "      <td>-0.020511</td>\n",
       "      <td>-0.015529</td>\n",
       "      <td>0.025751</td>\n",
       "      <td>0.020614</td>\n",
       "      <td>-0.025694</td>\n",
       "      <td>1.000000</td>\n",
       "      <td>0.015583</td>\n",
       "      <td>-0.024025</td>\n",
       "    </tr>\n",
       "    <tr>\n",
       "      <th>Expected price</th>\n",
       "      <td>0.009216</td>\n",
       "      <td>0.274507</td>\n",
       "      <td>0.820170</td>\n",
       "      <td>0.715687</td>\n",
       "      <td>0.683659</td>\n",
       "      <td>0.654627</td>\n",
       "      <td>0.007880</td>\n",
       "      <td>0.009346</td>\n",
       "      <td>0.011561</td>\n",
       "      <td>0.714598</td>\n",
       "      <td>0.016575</td>\n",
       "      <td>0.015583</td>\n",
       "      <td>1.000000</td>\n",
       "      <td>-0.760820</td>\n",
       "    </tr>\n",
       "    <tr>\n",
       "      <th>Grade</th>\n",
       "      <td>-0.006074</td>\n",
       "      <td>-0.177332</td>\n",
       "      <td>-0.875145</td>\n",
       "      <td>-0.865389</td>\n",
       "      <td>-0.847319</td>\n",
       "      <td>-0.819280</td>\n",
       "      <td>-0.166635</td>\n",
       "      <td>-0.170259</td>\n",
       "      <td>-0.051200</td>\n",
       "      <td>-0.787623</td>\n",
       "      <td>-0.099000</td>\n",
       "      <td>-0.024025</td>\n",
       "      <td>-0.760820</td>\n",
       "      <td>1.000000</td>\n",
       "    </tr>\n",
       "  </tbody>\n",
       "</table>\n",
       "</div>"
      ],
      "text/plain": [
       "                      Id  Area(total)    Trooms  Nbedrooms  Nbwashrooms  \\\n",
       "Id              1.000000     0.003186  0.003165   0.004814     0.003496   \n",
       "Area(total)     0.003186     1.000000  0.019041   0.031328     0.031819   \n",
       "Trooms          0.003165     0.019041  1.000000   0.865878     0.827072   \n",
       "Nbedrooms       0.004814     0.031328  0.865878   1.000000     0.956578   \n",
       "Nbwashrooms     0.003496     0.031819  0.827072   0.956578     1.000000   \n",
       "Twashrooms      0.001092     0.038509  0.794870   0.919158     0.960007   \n",
       "roof            0.011059     0.014229  0.025142   0.023058     0.028549   \n",
       "Roof(Area)      0.013046     0.017029  0.026550   0.025073     0.028832   \n",
       "Lawn(Area)      0.006309    -0.002118  0.009557   0.000054     0.006617   \n",
       "Nfloors        -0.010939     0.016819  0.862367   0.742132     0.711936   \n",
       "API            -0.003739    -0.000182  0.007502   0.002820     0.011413   \n",
       "ANB            -0.013219    -0.010846  0.007321   0.015403     0.008475   \n",
       "Expected price  0.009216     0.274507  0.820170   0.715687     0.683659   \n",
       "Grade          -0.006074    -0.177332 -0.875145  -0.865389    -0.847319   \n",
       "\n",
       "                Twashrooms      roof  Roof(Area)  Lawn(Area)   Nfloors  \\\n",
       "Id                0.001092  0.011059    0.013046    0.006309 -0.010939   \n",
       "Area(total)       0.038509  0.014229    0.017029   -0.002118  0.016819   \n",
       "Trooms            0.794870  0.025142    0.026550    0.009557  0.862367   \n",
       "Nbedrooms         0.919158  0.023058    0.025073    0.000054  0.742132   \n",
       "Nbwashrooms       0.960007  0.028549    0.028832    0.006617  0.711936   \n",
       "Twashrooms        1.000000  0.028212    0.028763    0.008386  0.684966   \n",
       "roof              0.028212  1.000000    0.976561   -0.004640  0.014985   \n",
       "Roof(Area)        0.028763  0.976561    1.000000   -0.006831  0.013840   \n",
       "Lawn(Area)        0.008386 -0.004640   -0.006831    1.000000  0.013771   \n",
       "Nfloors           0.684966  0.014985    0.013840    0.013771  1.000000   \n",
       "API               0.012361 -0.007983   -0.006331    0.011477 -0.002255   \n",
       "ANB               0.016492 -0.020511   -0.015529    0.025751  0.020614   \n",
       "Expected price    0.654627  0.007880    0.009346    0.011561  0.714598   \n",
       "Grade            -0.819280 -0.166635   -0.170259   -0.051200 -0.787623   \n",
       "\n",
       "                     API       ANB  Expected price     Grade  \n",
       "Id             -0.003739 -0.013219        0.009216 -0.006074  \n",
       "Area(total)    -0.000182 -0.010846        0.274507 -0.177332  \n",
       "Trooms          0.007502  0.007321        0.820170 -0.875145  \n",
       "Nbedrooms       0.002820  0.015403        0.715687 -0.865389  \n",
       "Nbwashrooms     0.011413  0.008475        0.683659 -0.847319  \n",
       "Twashrooms      0.012361  0.016492        0.654627 -0.819280  \n",
       "roof           -0.007983 -0.020511        0.007880 -0.166635  \n",
       "Roof(Area)     -0.006331 -0.015529        0.009346 -0.170259  \n",
       "Lawn(Area)      0.011477  0.025751        0.011561 -0.051200  \n",
       "Nfloors        -0.002255  0.020614        0.714598 -0.787623  \n",
       "API             1.000000 -0.025694        0.016575 -0.099000  \n",
       "ANB            -0.025694  1.000000        0.015583 -0.024025  \n",
       "Expected price  0.016575  0.015583        1.000000 -0.760820  \n",
       "Grade          -0.099000 -0.024025       -0.760820  1.000000  "
      ]
     },
     "execution_count": 17,
     "metadata": {},
     "output_type": "execute_result"
    }
   ],
   "source": [
    "# m-2)\n",
    "# checking correlation for our target variable\n",
    "\n",
    "df.corr()"
   ]
  },
  {
   "cell_type": "code",
   "execution_count": 18,
   "id": "31877940",
   "metadata": {},
   "outputs": [],
   "source": [
    "# select X and y for train and test\n",
    "\n",
    "X = df.drop([\"Grade\",\"Id\"],axis=1)   # our train data set\n",
    "y = df[\"Grade\"]  # our our target and test column\n",
    "\n",
    "X_train, X_test, y_train, y_test = train_test_split(X, y,  test_size=0.2, random_state = 13)"
   ]
  },
  {
   "cell_type": "code",
   "execution_count": 19,
   "id": "44f082a4",
   "metadata": {},
   "outputs": [],
   "source": [
    "# in X we drop target variable and \"ID\" is drop from correlation"
   ]
  },
  {
   "cell_type": "code",
   "execution_count": 20,
   "id": "97aaf681",
   "metadata": {},
   "outputs": [
    {
     "data": {
      "text/html": [
       "<div>\n",
       "<style scoped>\n",
       "    .dataframe tbody tr th:only-of-type {\n",
       "        vertical-align: middle;\n",
       "    }\n",
       "\n",
       "    .dataframe tbody tr th {\n",
       "        vertical-align: top;\n",
       "    }\n",
       "\n",
       "    .dataframe thead th {\n",
       "        text-align: right;\n",
       "    }\n",
       "</style>\n",
       "<table border=\"1\" class=\"dataframe\">\n",
       "  <thead>\n",
       "    <tr style=\"text-align: right;\">\n",
       "      <th></th>\n",
       "      <th>Area(total)</th>\n",
       "      <th>Trooms</th>\n",
       "      <th>Nbedrooms</th>\n",
       "      <th>Nbwashrooms</th>\n",
       "      <th>Twashrooms</th>\n",
       "      <th>roof</th>\n",
       "      <th>Roof(Area)</th>\n",
       "      <th>Lawn(Area)</th>\n",
       "      <th>Nfloors</th>\n",
       "      <th>API</th>\n",
       "      <th>ANB</th>\n",
       "      <th>Expected price</th>\n",
       "    </tr>\n",
       "  </thead>\n",
       "  <tbody>\n",
       "    <tr>\n",
       "      <th>0</th>\n",
       "      <td>339</td>\n",
       "      <td>6</td>\n",
       "      <td>5</td>\n",
       "      <td>4</td>\n",
       "      <td>6</td>\n",
       "      <td>0</td>\n",
       "      <td>0</td>\n",
       "      <td>76</td>\n",
       "      <td>2</td>\n",
       "      <td>79</td>\n",
       "      <td>6</td>\n",
       "      <td>3481</td>\n",
       "    </tr>\n",
       "    <tr>\n",
       "      <th>1</th>\n",
       "      <td>358</td>\n",
       "      <td>5</td>\n",
       "      <td>4</td>\n",
       "      <td>3</td>\n",
       "      <td>4</td>\n",
       "      <td>1</td>\n",
       "      <td>71</td>\n",
       "      <td>96</td>\n",
       "      <td>3</td>\n",
       "      <td>72</td>\n",
       "      <td>4</td>\n",
       "      <td>3510</td>\n",
       "    </tr>\n",
       "    <tr>\n",
       "      <th>2</th>\n",
       "      <td>324</td>\n",
       "      <td>7</td>\n",
       "      <td>5</td>\n",
       "      <td>4</td>\n",
       "      <td>5</td>\n",
       "      <td>1</td>\n",
       "      <td>101</td>\n",
       "      <td>117</td>\n",
       "      <td>5</td>\n",
       "      <td>64</td>\n",
       "      <td>3</td>\n",
       "      <td>3748</td>\n",
       "    </tr>\n",
       "    <tr>\n",
       "      <th>3</th>\n",
       "      <td>330</td>\n",
       "      <td>6</td>\n",
       "      <td>4</td>\n",
       "      <td>3</td>\n",
       "      <td>5</td>\n",
       "      <td>1</td>\n",
       "      <td>101</td>\n",
       "      <td>82</td>\n",
       "      <td>2</td>\n",
       "      <td>59</td>\n",
       "      <td>2</td>\n",
       "      <td>3134</td>\n",
       "    </tr>\n",
       "    <tr>\n",
       "      <th>4</th>\n",
       "      <td>320</td>\n",
       "      <td>7</td>\n",
       "      <td>4</td>\n",
       "      <td>4</td>\n",
       "      <td>5</td>\n",
       "      <td>0</td>\n",
       "      <td>0</td>\n",
       "      <td>75</td>\n",
       "      <td>3</td>\n",
       "      <td>40</td>\n",
       "      <td>1</td>\n",
       "      <td>3843</td>\n",
       "    </tr>\n",
       "    <tr>\n",
       "      <th>...</th>\n",
       "      <td>...</td>\n",
       "      <td>...</td>\n",
       "      <td>...</td>\n",
       "      <td>...</td>\n",
       "      <td>...</td>\n",
       "      <td>...</td>\n",
       "      <td>...</td>\n",
       "      <td>...</td>\n",
       "      <td>...</td>\n",
       "      <td>...</td>\n",
       "      <td>...</td>\n",
       "      <td>...</td>\n",
       "    </tr>\n",
       "    <tr>\n",
       "      <th>2995</th>\n",
       "      <td>341</td>\n",
       "      <td>9</td>\n",
       "      <td>6</td>\n",
       "      <td>5</td>\n",
       "      <td>7</td>\n",
       "      <td>1</td>\n",
       "      <td>95</td>\n",
       "      <td>115</td>\n",
       "      <td>5</td>\n",
       "      <td>90</td>\n",
       "      <td>2</td>\n",
       "      <td>4246</td>\n",
       "    </tr>\n",
       "    <tr>\n",
       "      <th>2996</th>\n",
       "      <td>292</td>\n",
       "      <td>9</td>\n",
       "      <td>8</td>\n",
       "      <td>7</td>\n",
       "      <td>8</td>\n",
       "      <td>1</td>\n",
       "      <td>116</td>\n",
       "      <td>87</td>\n",
       "      <td>7</td>\n",
       "      <td>97</td>\n",
       "      <td>4</td>\n",
       "      <td>3753</td>\n",
       "    </tr>\n",
       "    <tr>\n",
       "      <th>2997</th>\n",
       "      <td>328</td>\n",
       "      <td>7</td>\n",
       "      <td>4</td>\n",
       "      <td>3</td>\n",
       "      <td>5</td>\n",
       "      <td>0</td>\n",
       "      <td>0</td>\n",
       "      <td>78</td>\n",
       "      <td>5</td>\n",
       "      <td>95</td>\n",
       "      <td>6</td>\n",
       "      <td>3607</td>\n",
       "    </tr>\n",
       "    <tr>\n",
       "      <th>2998</th>\n",
       "      <td>293</td>\n",
       "      <td>9</td>\n",
       "      <td>7</td>\n",
       "      <td>7</td>\n",
       "      <td>8</td>\n",
       "      <td>0</td>\n",
       "      <td>0</td>\n",
       "      <td>78</td>\n",
       "      <td>7</td>\n",
       "      <td>51</td>\n",
       "      <td>3</td>\n",
       "      <td>4198</td>\n",
       "    </tr>\n",
       "    <tr>\n",
       "      <th>2999</th>\n",
       "      <td>343</td>\n",
       "      <td>7</td>\n",
       "      <td>6</td>\n",
       "      <td>6</td>\n",
       "      <td>8</td>\n",
       "      <td>0</td>\n",
       "      <td>0</td>\n",
       "      <td>108</td>\n",
       "      <td>5</td>\n",
       "      <td>95</td>\n",
       "      <td>3</td>\n",
       "      <td>4105</td>\n",
       "    </tr>\n",
       "  </tbody>\n",
       "</table>\n",
       "<p>3000 rows × 12 columns</p>\n",
       "</div>"
      ],
      "text/plain": [
       "      Area(total)  Trooms  Nbedrooms  Nbwashrooms  Twashrooms  roof  \\\n",
       "0             339       6          5            4           6     0   \n",
       "1             358       5          4            3           4     1   \n",
       "2             324       7          5            4           5     1   \n",
       "3             330       6          4            3           5     1   \n",
       "4             320       7          4            4           5     0   \n",
       "...           ...     ...        ...          ...         ...   ...   \n",
       "2995          341       9          6            5           7     1   \n",
       "2996          292       9          8            7           8     1   \n",
       "2997          328       7          4            3           5     0   \n",
       "2998          293       9          7            7           8     0   \n",
       "2999          343       7          6            6           8     0   \n",
       "\n",
       "      Roof(Area)  Lawn(Area)  Nfloors  API  ANB  Expected price  \n",
       "0              0          76        2   79    6            3481  \n",
       "1             71          96        3   72    4            3510  \n",
       "2            101         117        5   64    3            3748  \n",
       "3            101          82        2   59    2            3134  \n",
       "4              0          75        3   40    1            3843  \n",
       "...          ...         ...      ...  ...  ...             ...  \n",
       "2995          95         115        5   90    2            4246  \n",
       "2996         116          87        7   97    4            3753  \n",
       "2997           0          78        5   95    6            3607  \n",
       "2998           0          78        7   51    3            4198  \n",
       "2999           0         108        5   95    3            4105  \n",
       "\n",
       "[3000 rows x 12 columns]"
      ]
     },
     "execution_count": 20,
     "metadata": {},
     "output_type": "execute_result"
    }
   ],
   "source": [
    "X"
   ]
  },
  {
   "cell_type": "code",
   "execution_count": 21,
   "id": "14160c01",
   "metadata": {},
   "outputs": [
    {
     "data": {
      "text/plain": [
       "0       3\n",
       "1       3\n",
       "2       2\n",
       "3       3\n",
       "4       3\n",
       "       ..\n",
       "2995    1\n",
       "2996    0\n",
       "2997    3\n",
       "2998    1\n",
       "2999    2\n",
       "Name: Grade, Length: 3000, dtype: int32"
      ]
     },
     "execution_count": 21,
     "metadata": {},
     "output_type": "execute_result"
    }
   ],
   "source": [
    "y"
   ]
  },
  {
   "cell_type": "code",
   "execution_count": 22,
   "id": "d768f76a",
   "metadata": {},
   "outputs": [],
   "source": [
    "#Applying feature scaling to the dataset\n",
    "\n",
    "from sklearn.preprocessing import StandardScaler\n",
    "sc_X = StandardScaler()\n",
    "X_train = sc_X.fit_transform(X_train)\n",
    "X_test = sc_X.fit_transform(X_test)"
   ]
  },
  {
   "cell_type": "markdown",
   "id": "b4d75fd5",
   "metadata": {},
   "source": [
    "#### 1.) Naive Bayes Classification"
   ]
  },
  {
   "cell_type": "code",
   "execution_count": 23,
   "id": "a65845b2",
   "metadata": {},
   "outputs": [],
   "source": [
    "# 1.) Naive Bayes Classification\n",
    "\n",
    "from sklearn.naive_bayes import GaussianNB"
   ]
  },
  {
   "cell_type": "code",
   "execution_count": 24,
   "id": "62968316",
   "metadata": {},
   "outputs": [],
   "source": [
    "model = GaussianNB().fit(X_train, y_train) # fit model in training data"
   ]
  },
  {
   "cell_type": "code",
   "execution_count": 25,
   "id": "84d81ee8",
   "metadata": {
    "scrolled": true
   },
   "outputs": [
    {
     "data": {
      "text/plain": [
       "array([3, 1, 3, 0, 2, 1, 4, 1, 3, 2, 3, 3, 3, 0, 0, 0, 3, 1, 2, 1, 1, 3,\n",
       "       0, 2, 0, 0, 2, 3, 3, 2, 2, 2, 2, 1, 0, 3, 1, 3, 2, 3, 3, 2, 2, 3,\n",
       "       2, 4, 2, 2, 3, 3, 1, 3, 2, 3, 2, 2, 1, 0, 0, 3, 1, 3, 2, 4, 3, 3,\n",
       "       3, 1, 0, 3, 3, 0, 1, 3, 3, 2, 3, 3, 2, 2, 0, 3, 2, 1, 1, 3, 0, 3,\n",
       "       2, 2, 2, 3, 2, 3, 1, 2, 0, 1, 3, 3, 1, 2, 1, 3, 1, 3, 2, 3, 2, 2,\n",
       "       3, 1, 3, 3, 3, 2, 2, 1, 3, 2, 0, 1, 2, 0, 3, 3, 2, 1, 2, 0, 1, 4,\n",
       "       3, 0, 3, 2, 2, 1, 3, 3, 3, 3, 3, 1, 3, 0, 0, 0, 3, 3, 1, 4, 3, 3,\n",
       "       3, 2, 3, 3, 2, 0, 1, 2, 3, 1, 1, 1, 4, 2, 3, 2, 1, 0, 3, 3, 3, 3,\n",
       "       2, 3, 1, 3, 3, 3, 3, 2, 1, 2, 1, 3, 1, 3, 2, 4, 3, 3, 2, 3, 1, 4,\n",
       "       2, 2, 3, 1, 2, 1, 1, 3, 1, 3, 3, 3, 3, 3, 3, 2, 4, 3, 3, 3, 0, 0,\n",
       "       0, 3, 3, 3, 3, 3, 1, 1, 2, 3, 1, 2, 3, 2, 2, 1, 2, 2, 1, 0, 2, 1,\n",
       "       1, 1, 0, 1, 0, 3, 0, 3, 3, 1, 3, 0, 3, 3, 2, 3, 3, 1, 1, 2, 3, 1,\n",
       "       0, 2, 2, 2, 0, 3, 3, 1, 3, 3, 0, 3, 1, 3, 3, 3, 1, 4, 3, 1, 3, 3,\n",
       "       2, 3, 3, 4, 1, 1, 3, 3, 1, 2, 2, 0, 3, 3, 2, 1, 3, 2, 0, 3, 3, 2,\n",
       "       0, 3, 2, 0, 0, 2, 3, 1, 3, 2, 0, 2, 3, 2, 3, 1, 3, 0, 0, 1, 2, 3,\n",
       "       3, 3, 0, 3, 0, 2, 1, 1, 2, 1, 3, 2, 3, 0, 3, 3, 2, 1, 2, 3, 2, 3,\n",
       "       1, 1, 1, 3, 0, 3, 3, 0, 1, 3, 0, 1, 3, 2, 1, 3, 2, 3, 0, 0, 4, 3,\n",
       "       4, 0, 4, 3, 1, 1, 3, 3, 0, 1, 3, 1, 1, 3, 2, 3, 2, 1, 3, 0, 0, 2,\n",
       "       1, 2, 1, 0, 3, 1, 0, 1, 2, 2, 0, 2, 1, 0, 3, 3, 0, 3, 3, 0, 3, 3,\n",
       "       3, 4, 3, 3, 3, 2, 4, 3, 3, 0, 3, 3, 1, 1, 2, 1, 1, 4, 2, 1, 0, 1,\n",
       "       3, 2, 1, 2, 3, 0, 4, 4, 0, 2, 1, 1, 1, 3, 3, 0, 0, 3, 3, 2, 3, 1,\n",
       "       3, 3, 1, 3, 2, 3, 3, 2, 2, 2, 3, 1, 1, 1, 0, 2, 4, 2, 2, 1, 3, 2,\n",
       "       1, 3, 3, 3, 1, 3, 0, 0, 2, 3, 2, 0, 0, 0, 1, 2, 4, 3, 3, 2, 1, 3,\n",
       "       1, 3, 1, 3, 0, 0, 3, 2, 2, 2, 3, 3, 2, 2, 2, 2, 2, 4, 1, 2, 1, 3,\n",
       "       3, 3, 1, 2, 1, 4, 3, 3, 2, 3, 1, 3, 1, 2, 3, 3, 3, 2, 1, 2, 3, 1,\n",
       "       2, 3, 3, 2, 3, 2, 2, 2, 0, 2, 2, 3, 1, 3, 3, 1, 2, 3, 2, 2, 1, 1,\n",
       "       1, 1, 3, 4, 3, 3, 3, 4, 2, 2, 3, 2, 4, 2, 0, 3, 1, 1, 3, 3, 2, 3,\n",
       "       2, 3, 3, 2, 4, 3])"
      ]
     },
     "execution_count": 25,
     "metadata": {},
     "output_type": "execute_result"
    }
   ],
   "source": [
    "y_pred = model.predict(X_test)  # prediction from test data\n",
    "y_pred   "
   ]
  },
  {
   "cell_type": "code",
   "execution_count": 26,
   "id": "ac8f1565",
   "metadata": {},
   "outputs": [
    {
     "name": "stdout",
     "output_type": "stream",
     "text": [
      "[[ 68  13   0   0   0]\n",
      " [  9  96  13   0   0]\n",
      " [  0  16 103  11   0]\n",
      " [  0   0  27 213  13]\n",
      " [  0   0   0   4  14]]\n"
     ]
    }
   ],
   "source": [
    "# Build a confusion matrix\n",
    "\n",
    "from sklearn.metrics import confusion_matrix\n",
    "print(confusion_matrix(y_test,y_pred))"
   ]
  },
  {
   "cell_type": "code",
   "execution_count": 27,
   "id": "0f8c8ca5",
   "metadata": {},
   "outputs": [
    {
     "name": "stdout",
     "output_type": "stream",
     "text": [
      "Accuracy Score : 0.8233333333333334\n",
      "Precision Score : 0.835802379433432\n",
      "Recall Score : 0.8233333333333334\n",
      "F1 Score : 0.8272033517575008\n"
     ]
    }
   ],
   "source": [
    "nb_accuracy = (accuracy_score(y_test, y_pred))                         # for accuracy score\n",
    "nb_precision = (precision_score(y_test, y_pred, average='weighted'))    # for precison score\n",
    "nb_recall = (recall_score(y_test, y_pred, average='weighted'))       # for recall score\n",
    "nb_F1score = (f1_score(y_test, y_pred, average='weighted'))            # for f1 score\n",
    "print('Accuracy Score :',nb_accuracy)\n",
    "print('Precision Score :',nb_precision)\n",
    "print('Recall Score :',nb_recall)\n",
    "print('F1 Score :',nb_F1score)"
   ]
  },
  {
   "cell_type": "markdown",
   "id": "a01fca88",
   "metadata": {},
   "source": [
    "#### 2.) DECISION TREE Classification"
   ]
  },
  {
   "cell_type": "code",
   "execution_count": 28,
   "id": "becd8bfc",
   "metadata": {},
   "outputs": [],
   "source": [
    "# 2.) DECISION TREE Classification\n",
    "\n",
    "from sklearn.tree import DecisionTreeClassifier\n",
    "model2 = DecisionTreeClassifier().fit(X_train, y_train)  # fit model in training data"
   ]
  },
  {
   "cell_type": "code",
   "execution_count": 29,
   "id": "93e6cdb9",
   "metadata": {
    "scrolled": true
   },
   "outputs": [
    {
     "data": {
      "text/plain": [
       "array([4, 2, 3, 0, 2, 0, 3, 1, 3, 2, 3, 3, 3, 0, 0, 0, 3, 2, 2, 1, 1, 3,\n",
       "       0, 2, 0, 0, 3, 3, 3, 2, 2, 2, 3, 1, 0, 3, 1, 3, 3, 3, 3, 3, 2, 3,\n",
       "       2, 3, 2, 2, 3, 3, 1, 3, 2, 3, 3, 2, 2, 0, 0, 3, 2, 2, 2, 3, 3, 3,\n",
       "       3, 1, 0, 3, 4, 0, 1, 3, 3, 2, 3, 2, 3, 2, 0, 3, 2, 0, 1, 3, 0, 3,\n",
       "       1, 1, 2, 3, 2, 3, 1, 2, 0, 1, 3, 3, 1, 1, 1, 3, 2, 3, 2, 3, 3, 3,\n",
       "       3, 2, 4, 3, 3, 2, 2, 1, 3, 2, 0, 1, 2, 1, 4, 3, 2, 1, 2, 0, 1, 4,\n",
       "       3, 0, 4, 2, 2, 1, 3, 3, 3, 3, 3, 2, 3, 0, 0, 0, 3, 3, 2, 3, 3, 3,\n",
       "       3, 3, 3, 3, 2, 0, 1, 2, 3, 0, 2, 1, 4, 2, 3, 3, 1, 0, 3, 3, 3, 4,\n",
       "       2, 3, 1, 3, 3, 3, 3, 2, 1, 3, 0, 3, 2, 3, 1, 3, 3, 3, 3, 3, 1, 4,\n",
       "       2, 2, 3, 1, 2, 0, 2, 3, 2, 2, 3, 4, 3, 4, 3, 2, 3, 3, 3, 3, 0, 0,\n",
       "       0, 3, 3, 3, 3, 3, 1, 1, 3, 3, 1, 2, 3, 2, 2, 1, 1, 3, 1, 0, 1, 1,\n",
       "       1, 1, 0, 1, 0, 3, 0, 3, 3, 1, 3, 0, 3, 3, 2, 3, 3, 0, 3, 3, 3, 2,\n",
       "       0, 3, 3, 2, 0, 3, 2, 1, 3, 3, 0, 3, 1, 2, 3, 3, 1, 4, 3, 1, 3, 3,\n",
       "       2, 3, 3, 3, 1, 2, 3, 3, 0, 2, 2, 0, 3, 3, 2, 1, 3, 3, 0, 4, 3, 2,\n",
       "       0, 3, 2, 0, 0, 2, 3, 1, 2, 2, 0, 2, 3, 2, 3, 2, 3, 1, 0, 1, 2, 3,\n",
       "       3, 3, 0, 3, 0, 2, 1, 1, 2, 1, 2, 3, 3, 0, 3, 3, 2, 1, 2, 3, 2, 3,\n",
       "       0, 1, 1, 3, 0, 2, 3, 0, 1, 3, 0, 1, 3, 2, 0, 3, 2, 3, 0, 0, 4, 3,\n",
       "       4, 1, 3, 3, 0, 2, 2, 2, 1, 1, 3, 1, 1, 3, 2, 3, 3, 1, 3, 0, 0, 2,\n",
       "       1, 3, 1, 0, 3, 2, 0, 1, 2, 2, 0, 3, 1, 0, 3, 3, 0, 3, 3, 0, 3, 3,\n",
       "       3, 4, 3, 3, 3, 2, 3, 3, 3, 0, 3, 3, 1, 1, 2, 0, 2, 4, 2, 1, 0, 1,\n",
       "       4, 2, 2, 2, 3, 0, 4, 3, 0, 1, 2, 0, 2, 3, 3, 0, 0, 2, 3, 2, 2, 0,\n",
       "       3, 3, 1, 3, 2, 3, 3, 2, 2, 2, 3, 1, 2, 1, 0, 3, 3, 2, 2, 2, 3, 2,\n",
       "       0, 3, 3, 3, 2, 3, 0, 0, 2, 3, 2, 0, 0, 0, 1, 2, 4, 3, 3, 1, 1, 2,\n",
       "       1, 3, 1, 3, 0, 0, 3, 2, 3, 3, 3, 3, 2, 2, 3, 2, 2, 3, 1, 2, 1, 3,\n",
       "       3, 2, 1, 2, 1, 3, 3, 3, 2, 3, 1, 3, 1, 2, 3, 3, 3, 3, 2, 2, 3, 1,\n",
       "       2, 3, 3, 2, 3, 2, 2, 3, 0, 3, 2, 3, 1, 3, 3, 0, 2, 3, 2, 2, 1, 1,\n",
       "       0, 1, 3, 3, 3, 3, 3, 4, 2, 3, 2, 3, 4, 2, 0, 3, 1, 1, 3, 3, 2, 3,\n",
       "       2, 2, 3, 3, 3, 3])"
      ]
     },
     "execution_count": 29,
     "metadata": {},
     "output_type": "execute_result"
    }
   ],
   "source": [
    "y1_pred = model2.predict(X_test)  # prediction from test data\n",
    "y1_pred"
   ]
  },
  {
   "cell_type": "code",
   "execution_count": 30,
   "id": "197ab637",
   "metadata": {},
   "outputs": [
    {
     "name": "stdout",
     "output_type": "stream",
     "text": [
      "[[ 75   6   0   0   0]\n",
      " [ 14  83  21   0   0]\n",
      " [  0   6 109  15   0]\n",
      " [  0   0  14 228  11]\n",
      " [  0   0   0   7  11]]\n"
     ]
    }
   ],
   "source": [
    "# Build a confusion matrix\n",
    "\n",
    "from sklearn.metrics import confusion_matrix\n",
    "print(confusion_matrix(y_test,y1_pred))"
   ]
  },
  {
   "cell_type": "code",
   "execution_count": 31,
   "id": "9373d4b9",
   "metadata": {},
   "outputs": [
    {
     "name": "stdout",
     "output_type": "stream",
     "text": [
      "Accuracy Score : 0.8433333333333334\n",
      "Precision Score : 0.8491532359769586\n",
      "Recall Score : 0.8433333333333334\n",
      "F1 Score : 0.8435392123973817\n"
     ]
    }
   ],
   "source": [
    "dt_accuracy = (accuracy_score(y_test, y1_pred))                         # for accuracy score\n",
    "dt_precision = (precision_score(y_test, y1_pred, average='weighted'))    # for precison score\n",
    "dt_recall = (recall_score(y_test, y1_pred, average='weighted'))       # for recall score\n",
    "dt_F1score = (f1_score(y_test, y1_pred, average='weighted'))            # for f1 score\n",
    "print('Accuracy Score :',dt_accuracy)\n",
    "print('Precision Score :',dt_precision)\n",
    "print('Recall Score :',dt_recall)\n",
    "print('F1 Score :',dt_F1score)"
   ]
  },
  {
   "cell_type": "markdown",
   "id": "a09426a6",
   "metadata": {},
   "source": [
    "#### 3.) Stacking Classifier"
   ]
  },
  {
   "cell_type": "code",
   "execution_count": 32,
   "id": "b20ec17f",
   "metadata": {},
   "outputs": [],
   "source": [
    "# 3.) Stacking Classifier\n",
    "\n",
    "from sklearn.model_selection import cross_validate\n",
    "from sklearn.model_selection import RepeatedStratifiedKFold"
   ]
  },
  {
   "cell_type": "code",
   "execution_count": 41,
   "id": "8d6e59ce",
   "metadata": {},
   "outputs": [],
   "source": [
    "from sklearn.ensemble import StackingClassifier           \n",
    "from sklearn.neighbors import KNeighborsClassifier       \n",
    "from sklearn.tree import DecisionTreeClassifier           \n",
    "from sklearn.svm import SVC                               \n",
    "from sklearn.naive_bayes import GaussianNB\n",
    "from sklearn.linear_model import LogisticRegression"
   ]
  },
  {
   "cell_type": "code",
   "execution_count": 42,
   "id": "144c2db2",
   "metadata": {},
   "outputs": [],
   "source": [
    "def stacking():\n",
    "    level0=list()\n",
    "    level0.append(('KN', KNeighborsClassifier()))\n",
    "    level0.append(('DT', DecisionTreeClassifier()))\n",
    "    level0.append(('SVC', SVC()))\n",
    "    level0.append(('NB', GaussianNB()))\n",
    "\n",
    "    level1 = LogisticRegression()\n",
    "    s_scores = StackingClassifier(estimators=level0, final_estimator=level1, cv=5)\n",
    "    return s_scores"
   ]
  },
  {
   "cell_type": "code",
   "execution_count": 46,
   "id": "c847704a",
   "metadata": {},
   "outputs": [],
   "source": [
    "model3 = stacking()\n",
    "scoring=['accuracy','precision_weighted','recall_weighted','f1_weighted']\n",
    "cv=RepeatedStratifiedKFold(n_splits=5, n_repeats=10, random_state=2)\n",
    "# cross validation\n",
    "stack_scores = cross_validate(model3,X,y, scoring=scoring, cv=cv, n_jobs=-1, error_score='raise')"
   ]
  },
  {
   "cell_type": "code",
   "execution_count": 47,
   "id": "9d896860",
   "metadata": {},
   "outputs": [
    {
     "name": "stdout",
     "output_type": "stream",
     "text": [
      "Accuracy Score : 0.86\n",
      "Precision Score : 0.86\n",
      "Recall Score: 0.86\n",
      "F1 Score : 0.858\n"
     ]
    }
   ],
   "source": [
    "s_acc = round(np.mean(stack_scores['test_accuracy']),3)                # for accuracy score\n",
    "s_pre = round(np.mean(stack_scores['test_precision_weighted']),3)      # for precision score\n",
    "s_rec = round(np.mean(stack_scores['test_recall_weighted']),3)         # for recall score\n",
    "s_f1 = round(np.mean(stack_scores['test_f1_weighted']),3)              # for f1 score\n",
    "print('Accuracy Score :', s_acc)\n",
    "print('Precision Score :', s_pre)\n",
    "print('Recall Score:', s_rec) \n",
    "print('F1 Score :', s_f1)"
   ]
  },
  {
   "cell_type": "markdown",
   "id": "3f2b2efe",
   "metadata": {},
   "source": [
    "##### 4.) Random Forest Classifier"
   ]
  },
  {
   "cell_type": "code",
   "execution_count": 48,
   "id": "b2c6e4dc",
   "metadata": {},
   "outputs": [],
   "source": [
    "# 4.) Random Forest Classifier\n",
    "\n",
    "# importing library\n",
    "from sklearn.ensemble import RandomForestClassifier"
   ]
  },
  {
   "cell_type": "code",
   "execution_count": 49,
   "id": "1bc71783",
   "metadata": {},
   "outputs": [],
   "source": [
    "model4 = RandomForestClassifier(max_depth=5).fit(X_train, y_train)     # making and training the model\n",
    "y2_pred = model4.predict(X_test)"
   ]
  },
  {
   "cell_type": "code",
   "execution_count": 50,
   "id": "841ee933",
   "metadata": {
    "scrolled": true
   },
   "outputs": [
    {
     "data": {
      "text/plain": [
       "array([3, 2, 3, 0, 2, 1, 3, 1, 3, 2, 3, 3, 3, 0, 0, 0, 3, 1, 2, 1, 1, 3,\n",
       "       1, 2, 0, 0, 2, 3, 3, 2, 2, 3, 2, 1, 0, 3, 1, 3, 3, 3, 3, 2, 2, 3,\n",
       "       2, 3, 2, 2, 3, 3, 1, 3, 2, 3, 3, 2, 2, 0, 0, 3, 1, 3, 2, 3, 3, 3,\n",
       "       3, 2, 0, 3, 3, 0, 1, 3, 3, 2, 3, 3, 3, 2, 0, 3, 2, 1, 1, 3, 0, 3,\n",
       "       1, 2, 2, 3, 2, 3, 1, 2, 0, 1, 3, 3, 1, 2, 1, 3, 2, 3, 2, 3, 3, 3,\n",
       "       3, 2, 3, 3, 3, 2, 2, 1, 3, 2, 0, 1, 2, 0, 3, 3, 2, 1, 2, 0, 1, 3,\n",
       "       3, 1, 3, 2, 2, 1, 3, 3, 3, 3, 3, 1, 3, 0, 0, 0, 3, 3, 2, 3, 3, 3,\n",
       "       3, 3, 3, 3, 2, 0, 1, 2, 3, 1, 1, 1, 3, 2, 3, 3, 1, 0, 3, 3, 3, 3,\n",
       "       2, 3, 1, 3, 3, 3, 3, 2, 1, 3, 1, 3, 1, 3, 2, 3, 3, 3, 2, 3, 1, 3,\n",
       "       2, 2, 3, 1, 3, 1, 2, 3, 1, 3, 3, 3, 3, 3, 3, 3, 3, 3, 3, 3, 0, 0,\n",
       "       0, 3, 3, 3, 3, 3, 1, 1, 3, 3, 1, 2, 3, 2, 3, 1, 2, 2, 1, 1, 2, 1,\n",
       "       1, 1, 0, 1, 0, 3, 0, 3, 3, 1, 3, 0, 3, 3, 2, 3, 3, 1, 2, 2, 3, 1,\n",
       "       0, 3, 3, 2, 0, 3, 3, 1, 3, 3, 0, 3, 1, 3, 3, 3, 1, 3, 3, 1, 3, 3,\n",
       "       2, 3, 3, 3, 1, 2, 3, 3, 1, 2, 3, 0, 3, 3, 2, 2, 3, 3, 0, 3, 3, 2,\n",
       "       1, 3, 2, 0, 0, 2, 3, 1, 3, 2, 0, 2, 3, 2, 3, 1, 3, 0, 0, 1, 2, 3,\n",
       "       3, 3, 1, 3, 1, 2, 1, 1, 2, 1, 3, 2, 3, 0, 3, 3, 2, 2, 2, 3, 2, 3,\n",
       "       1, 1, 1, 3, 0, 3, 3, 0, 1, 3, 0, 1, 3, 2, 1, 3, 2, 3, 0, 0, 3, 3,\n",
       "       3, 0, 3, 2, 1, 1, 3, 3, 0, 1, 3, 1, 1, 3, 2, 3, 3, 1, 3, 0, 0, 2,\n",
       "       1, 3, 1, 0, 3, 1, 0, 1, 2, 2, 0, 2, 1, 0, 3, 3, 1, 3, 3, 0, 3, 3,\n",
       "       3, 3, 3, 3, 3, 2, 3, 3, 3, 0, 3, 3, 1, 1, 2, 1, 1, 3, 2, 1, 0, 1,\n",
       "       3, 2, 2, 2, 3, 0, 3, 3, 0, 1, 1, 1, 2, 3, 3, 0, 0, 3, 3, 2, 2, 1,\n",
       "       3, 3, 1, 3, 2, 3, 3, 2, 2, 2, 3, 1, 2, 1, 0, 3, 3, 2, 2, 1, 3, 2,\n",
       "       1, 3, 3, 3, 2, 3, 0, 0, 2, 3, 3, 0, 1, 0, 1, 2, 3, 3, 3, 2, 1, 3,\n",
       "       1, 3, 1, 3, 0, 0, 3, 2, 3, 3, 3, 3, 2, 2, 2, 2, 2, 3, 1, 2, 1, 3,\n",
       "       3, 3, 1, 2, 1, 3, 3, 3, 2, 3, 1, 3, 1, 2, 3, 3, 3, 2, 1, 2, 3, 1,\n",
       "       2, 3, 3, 3, 3, 2, 2, 3, 0, 3, 2, 3, 1, 3, 3, 1, 2, 3, 2, 2, 1, 1,\n",
       "       1, 1, 3, 3, 3, 3, 3, 3, 2, 3, 3, 2, 3, 2, 0, 3, 1, 1, 3, 3, 2, 3,\n",
       "       2, 3, 3, 3, 3, 3])"
      ]
     },
     "execution_count": 50,
     "metadata": {},
     "output_type": "execute_result"
    }
   ],
   "source": [
    "y2_pred"
   ]
  },
  {
   "cell_type": "code",
   "execution_count": 51,
   "id": "9f81317d",
   "metadata": {},
   "outputs": [
    {
     "name": "stdout",
     "output_type": "stream",
     "text": [
      "[[ 63  18   0   0   0]\n",
      " [  6  96  16   0   0]\n",
      " [  0   6 108  16   0]\n",
      " [  0   0   6 247   0]\n",
      " [  0   0   0  18   0]]\n"
     ]
    }
   ],
   "source": [
    "# Build a confusion matrix\n",
    "\n",
    "from sklearn.metrics import confusion_matrix\n",
    "print(confusion_matrix(y_test,y2_pred))"
   ]
  },
  {
   "cell_type": "code",
   "execution_count": 52,
   "id": "68ba5ed4",
   "metadata": {},
   "outputs": [
    {
     "name": "stdout",
     "output_type": "stream",
     "text": [
      "Accuracy Score : 0.8566666666666667\n",
      "Precision Score : 0.8312407034916706\n",
      "Recall Score : 0.8566666666666667\n",
      "F1 Score : 0.8421366107491686\n"
     ]
    }
   ],
   "source": [
    "rf_accuracy = (accuracy_score(y_test, y2_pred))                         # for accuracy score\n",
    "rf_precision = (precision_score(y_test, y2_pred, average='weighted'))    # for precison score\n",
    "rf_recall = (recall_score(y_test, y2_pred, average='weighted'))       # for recall score\n",
    "rf_F1score = (f1_score(y_test, y2_pred, average='weighted'))            # for f1 score\n",
    "print('Accuracy Score :',rf_accuracy)\n",
    "print('Precision Score :',rf_precision)\n",
    "print('Recall Score :',rf_recall)\n",
    "print('F1 Score :',rf_F1score)"
   ]
  },
  {
   "cell_type": "code",
   "execution_count": 53,
   "id": "fadfa2c8",
   "metadata": {},
   "outputs": [
    {
     "data": {
      "text/html": [
       "<div>\n",
       "<style scoped>\n",
       "    .dataframe tbody tr th:only-of-type {\n",
       "        vertical-align: middle;\n",
       "    }\n",
       "\n",
       "    .dataframe tbody tr th {\n",
       "        vertical-align: top;\n",
       "    }\n",
       "\n",
       "    .dataframe thead th {\n",
       "        text-align: right;\n",
       "    }\n",
       "</style>\n",
       "<table border=\"1\" class=\"dataframe\">\n",
       "  <thead>\n",
       "    <tr style=\"text-align: right;\">\n",
       "      <th></th>\n",
       "      <th>Accuracy Score</th>\n",
       "      <th>Precision Score</th>\n",
       "      <th>Recall Score</th>\n",
       "      <th>F1 Score</th>\n",
       "    </tr>\n",
       "  </thead>\n",
       "  <tbody>\n",
       "    <tr>\n",
       "      <th>Naive Bayes</th>\n",
       "      <td>0.823333</td>\n",
       "      <td>0.835802</td>\n",
       "      <td>0.823333</td>\n",
       "      <td>0.827203</td>\n",
       "    </tr>\n",
       "    <tr>\n",
       "      <th>Decision Tree</th>\n",
       "      <td>0.843333</td>\n",
       "      <td>0.849153</td>\n",
       "      <td>0.843333</td>\n",
       "      <td>0.843539</td>\n",
       "    </tr>\n",
       "    <tr>\n",
       "      <th>Stacking</th>\n",
       "      <td>0.860000</td>\n",
       "      <td>0.860000</td>\n",
       "      <td>0.860000</td>\n",
       "      <td>0.858000</td>\n",
       "    </tr>\n",
       "    <tr>\n",
       "      <th>Random Forest</th>\n",
       "      <td>0.856667</td>\n",
       "      <td>0.831241</td>\n",
       "      <td>0.856667</td>\n",
       "      <td>0.842137</td>\n",
       "    </tr>\n",
       "  </tbody>\n",
       "</table>\n",
       "</div>"
      ],
      "text/plain": [
       "               Accuracy Score  Precision Score  Recall Score  F1 Score\n",
       "Naive Bayes          0.823333         0.835802      0.823333  0.827203\n",
       "Decision Tree        0.843333         0.849153      0.843333  0.843539\n",
       "Stacking             0.860000         0.860000      0.860000  0.858000\n",
       "Random Forest        0.856667         0.831241      0.856667  0.842137"
      ]
     },
     "execution_count": 53,
     "metadata": {},
     "output_type": "execute_result"
    }
   ],
   "source": [
    "# comparing all model\n",
    "\n",
    "a = pd.DataFrame({'Accuracy Score':[nb_accuracy,dt_accuracy,s_acc,rf_accuracy],\n",
    "                        'Precision Score':[nb_precision,dt_precision,s_pre,rf_precision],\n",
    "                        'Recall Score':[nb_recall,dt_recall,s_rec,rf_recall],\n",
    "                        'F1 Score':[nb_F1score,dt_F1score,s_f1,rf_F1score]},                       \n",
    "                      index=['Naive Bayes','Decision Tree','Stacking','Random Forest'])\n",
    "a"
   ]
  },
  {
   "cell_type": "markdown",
   "id": "d4bed438",
   "metadata": {},
   "source": [
    "##### Conclusion:- from all 4 algorithms STACKING having good accuracy that's 86.5%. "
   ]
  },
  {
   "cell_type": "code",
   "execution_count": 54,
   "id": "36e5ccc3",
   "metadata": {},
   "outputs": [
    {
     "data": {
      "text/html": [
       "<div>\n",
       "<style scoped>\n",
       "    .dataframe tbody tr th:only-of-type {\n",
       "        vertical-align: middle;\n",
       "    }\n",
       "\n",
       "    .dataframe tbody tr th {\n",
       "        vertical-align: top;\n",
       "    }\n",
       "\n",
       "    .dataframe thead th {\n",
       "        text-align: right;\n",
       "    }\n",
       "</style>\n",
       "<table border=\"1\" class=\"dataframe\">\n",
       "  <thead>\n",
       "    <tr style=\"text-align: right;\">\n",
       "      <th></th>\n",
       "      <th>actual value</th>\n",
       "      <th>predicted value</th>\n",
       "    </tr>\n",
       "  </thead>\n",
       "  <tbody>\n",
       "    <tr>\n",
       "      <th>1626</th>\n",
       "      <td>4</td>\n",
       "      <td>4</td>\n",
       "    </tr>\n",
       "    <tr>\n",
       "      <th>2420</th>\n",
       "      <td>2</td>\n",
       "      <td>2</td>\n",
       "    </tr>\n",
       "    <tr>\n",
       "      <th>2750</th>\n",
       "      <td>3</td>\n",
       "      <td>3</td>\n",
       "    </tr>\n",
       "    <tr>\n",
       "      <th>1134</th>\n",
       "      <td>0</td>\n",
       "      <td>0</td>\n",
       "    </tr>\n",
       "    <tr>\n",
       "      <th>1737</th>\n",
       "      <td>2</td>\n",
       "      <td>2</td>\n",
       "    </tr>\n",
       "    <tr>\n",
       "      <th>...</th>\n",
       "      <td>...</td>\n",
       "      <td>...</td>\n",
       "    </tr>\n",
       "    <tr>\n",
       "      <th>1131</th>\n",
       "      <td>3</td>\n",
       "      <td>2</td>\n",
       "    </tr>\n",
       "    <tr>\n",
       "      <th>2899</th>\n",
       "      <td>3</td>\n",
       "      <td>3</td>\n",
       "    </tr>\n",
       "    <tr>\n",
       "      <th>79</th>\n",
       "      <td>3</td>\n",
       "      <td>3</td>\n",
       "    </tr>\n",
       "    <tr>\n",
       "      <th>1619</th>\n",
       "      <td>3</td>\n",
       "      <td>3</td>\n",
       "    </tr>\n",
       "    <tr>\n",
       "      <th>1535</th>\n",
       "      <td>3</td>\n",
       "      <td>3</td>\n",
       "    </tr>\n",
       "  </tbody>\n",
       "</table>\n",
       "<p>600 rows × 2 columns</p>\n",
       "</div>"
      ],
      "text/plain": [
       "      actual value  predicted value\n",
       "1626             4                4\n",
       "2420             2                2\n",
       "2750             3                3\n",
       "1134             0                0\n",
       "1737             2                2\n",
       "...            ...              ...\n",
       "1131             3                2\n",
       "2899             3                3\n",
       "79               3                3\n",
       "1619             3                3\n",
       "1535             3                3\n",
       "\n",
       "[600 rows x 2 columns]"
      ]
     },
     "execution_count": 54,
     "metadata": {},
     "output_type": "execute_result"
    }
   ],
   "source": [
    "b = pd.DataFrame({'actual value':y_test,'predicted value':y1_pred})\n",
    "b"
   ]
  },
  {
   "cell_type": "markdown",
   "id": "03f23828",
   "metadata": {},
   "source": [
    "##### conclusion:- we create DataFrame from actual value and Predicted value"
   ]
  },
  {
   "cell_type": "markdown",
   "id": "50f45ec4",
   "metadata": {},
   "source": [
    "### Data Visulazation "
   ]
  },
  {
   "cell_type": "code",
   "execution_count": 55,
   "id": "3f7a2201",
   "metadata": {},
   "outputs": [
    {
     "data": {
      "text/plain": [
       "<AxesSubplot:xlabel='Area(total)', ylabel='Density'>"
      ]
     },
     "execution_count": 55,
     "metadata": {},
     "output_type": "execute_result"
    },
    {
     "data": {
      "image/png": "[encoded data removed]",
      "text/plain": [
       "<Figure size 640x480 with 1 Axes>"
      ]
     },
     "metadata": {},
     "output_type": "display_data"
    }
   ],
   "source": [
    "# 1.) area plot\n",
    "sns.distplot(df[\"Area(total)\"],color=\"blue\")"
   ]
  },
  {
   "cell_type": "markdown",
   "id": "1d713b0a",
   "metadata": {},
   "source": [
    "conclusion: from visulaization we can see from 300 to 360 are was nealy uniform. "
   ]
  },
  {
   "cell_type": "code",
   "execution_count": 56,
   "id": "0672ed8b",
   "metadata": {},
   "outputs": [],
   "source": [
    "# from that we can count out and according to that height will plot\n",
    "\n",
    "pal= [\"#659EC7\",\"#4EE2EC\",\"#AAF0D1\",\"#2E8B57\",\"#F5DEB3\",\"#EE9A4D\",\"#C11B17\",\"#033E3E\",\"#033E3E\"]  # color code\n",
    "def count_plot(df,col):\n",
    "    ax=sns.countplot(df[col],linewidth=3,palette=pal[:df[col].nunique()])   \n",
    "    for bar in ax.patches:\n",
    "        h= bar.get_height()\n",
    "        str1= str(h)\n",
    "        x= bar.get_x()+bar.get_width()/2\n",
    "        ax.annotate(str1, (x, h), va = \"bottom\", ha =\"center\" )  # centre having highest count from that"
   ]
  },
  {
   "cell_type": "code",
   "execution_count": 57,
   "id": "00b8bc36",
   "metadata": {},
   "outputs": [
    {
     "data": {
      "text/plain": [
       "Text(0.5, 1.0, 'Number of properties with different number of Bed rooms')"
      ]
     },
     "execution_count": 57,
     "metadata": {},
     "output_type": "execute_result"
    },
    {
     "data": {
      "image/png": "[encoded data removed]",
      "text/plain": [
       "<Figure size 640x480 with 1 Axes>"
      ]
     },
     "metadata": {},
     "output_type": "display_data"
    }
   ],
   "source": [
    "# Number of properties with different number of Bed rooms\n",
    "\n",
    "count_plot(df,\"Nbedrooms\")\n",
    "plt.title(\"Number of properties with different number of Bed rooms\",size=10)"
   ]
  },
  {
   "cell_type": "markdown",
   "id": "32b7b200",
   "metadata": {},
   "source": [
    "conclusion: from visualization no. of bedrooms 4,5 and 6 having the maximum from that that properties having 4 bedrooms that count 623 and that's maximum. "
   ]
  },
  {
   "cell_type": "code",
   "execution_count": 58,
   "id": "7140f565",
   "metadata": {},
   "outputs": [
    {
     "data": {
      "image/png": "[encoded data removed]",
      "text/plain": [
       "<Figure size 640x480 with 1 Axes>"
      ]
     },
     "metadata": {},
     "output_type": "display_data"
    }
   ],
   "source": [
    "# 3.) Number of properties with different Grade\n",
    "\n",
    "count_plot(df,\"Grade\")\n",
    "plt.title(\"Number of properties with different Grade\",size=15,y=1.1)\n",
    "plt.show()"
   ]
  },
  {
   "cell_type": "markdown",
   "id": "1b295e3f",
   "metadata": {},
   "source": [
    "conclusion: In that D (3) type of grade having maximum count of grade. (Most of the room availablity)"
   ]
  },
  {
   "cell_type": "code",
   "execution_count": 59,
   "id": "3b2bcd52",
   "metadata": {},
   "outputs": [
    {
     "data": {
      "image/png": "[encoded data removed]",
      "text/plain": [
       "<Figure size 640x480 with 1 Axes>"
      ]
     },
     "metadata": {},
     "output_type": "display_data"
    }
   ],
   "source": [
    "# 4.) Price for diffrent grade\n",
    "\n",
    "pd.pivot_table(df,index= \"Grade\",values= [\"Expected price\"]).plot(kind=\"bar\")\n",
    "plt.title(\"Average Price for Different Grade of Properties\");"
   ]
  },
  {
   "cell_type": "markdown",
   "id": "b72efcaa",
   "metadata": {},
   "source": [
    "conclusion: In that Grade A-(0) having maximum Average price that's near to 4500."
   ]
  },
  {
   "cell_type": "code",
   "execution_count": 60,
   "id": "25d1fba4",
   "metadata": {},
   "outputs": [
    {
     "data": {
      "image/png": "[encoded data removed]",
      "text/plain": [
       "<Figure size 1400x800 with 1 Axes>"
      ]
     },
     "metadata": {},
     "output_type": "display_data"
    }
   ],
   "source": [
    "# 5.) Count of different number of Total Rooms\n",
    "\n",
    "pd.crosstab(df.Trooms,df.Grade).plot(kind='bar',figsize=(14,8),width=1.2)\n",
    "plt.title(\"Count of different number of Total Rooms \")\n",
    "plt.show()"
   ]
  },
  {
   "cell_type": "markdown",
   "id": "0a7cbf6f",
   "metadata": {},
   "source": [
    "Conclusion: From Visualization Grade A-(0) having maximum counts of 9 rooms, Grade B-(1) having maximum counts of 8 rooms, Grade C-(2) having maximum counts of 7 rooms, Grade D-(3) having maximum counts of 6 rooms and Grade E-(4) having maximum counts of 5 rooms."
   ]
  },
  {
   "cell_type": "code",
   "execution_count": 61,
   "id": "40ac8201",
   "metadata": {},
   "outputs": [
    {
     "data": {
      "text/html": [
       "<div>\n",
       "<style scoped>\n",
       "    .dataframe tbody tr th:only-of-type {\n",
       "        vertical-align: middle;\n",
       "    }\n",
       "\n",
       "    .dataframe tbody tr th {\n",
       "        vertical-align: top;\n",
       "    }\n",
       "\n",
       "    .dataframe thead th {\n",
       "        text-align: right;\n",
       "    }\n",
       "</style>\n",
       "<table border=\"1\" class=\"dataframe\">\n",
       "  <thead>\n",
       "    <tr style=\"text-align: right;\">\n",
       "      <th></th>\n",
       "      <th>API</th>\n",
       "    </tr>\n",
       "    <tr>\n",
       "      <th>Grade</th>\n",
       "      <th></th>\n",
       "    </tr>\n",
       "  </thead>\n",
       "  <tbody>\n",
       "    <tr>\n",
       "      <th>0</th>\n",
       "      <td>71.857143</td>\n",
       "    </tr>\n",
       "    <tr>\n",
       "      <th>1</th>\n",
       "      <td>71.775510</td>\n",
       "    </tr>\n",
       "    <tr>\n",
       "      <th>2</th>\n",
       "      <td>71.509777</td>\n",
       "    </tr>\n",
       "    <tr>\n",
       "      <th>3</th>\n",
       "      <td>69.155906</td>\n",
       "    </tr>\n",
       "    <tr>\n",
       "      <th>4</th>\n",
       "      <td>55.065789</td>\n",
       "    </tr>\n",
       "  </tbody>\n",
       "</table>\n",
       "</div>"
      ],
      "text/plain": [
       "             API\n",
       "Grade           \n",
       "0      71.857143\n",
       "1      71.775510\n",
       "2      71.509777\n",
       "3      69.155906\n",
       "4      55.065789"
      ]
     },
     "execution_count": 61,
     "metadata": {},
     "output_type": "execute_result"
    }
   ],
   "source": [
    "# 6.) Air Pollution Index wise Grade\n",
    "pd.pivot_table(df,index= \"Grade\",values= [\"API\"])"
   ]
  },
  {
   "cell_type": "markdown",
   "id": "d9b2c4cc",
   "metadata": {},
   "source": [
    "conclusion: In that Grade A-(0) having maximum air pollution index."
   ]
  },
  {
   "cell_type": "code",
   "execution_count": 62,
   "id": "0881b210",
   "metadata": {},
   "outputs": [
    {
     "data": {
      "image/png": "[encoded data removed]",
      "text/plain": [
       "<Figure size 1400x800 with 1 Axes>"
      ]
     },
     "metadata": {},
     "output_type": "display_data"
    }
   ],
   "source": [
    "# 7.) Count of different number of Total floors\n",
    "\n",
    "pd.crosstab(df.Nfloors,df.Grade).plot(kind='bar',figsize=(14,8),width=1.2)\n",
    "plt.title(\"Count of different number of Total floors \")\n",
    "plt.show()"
   ]
  },
  {
   "cell_type": "markdown",
   "id": "c8941634",
   "metadata": {},
   "source": [
    "conclusion: From Visualization count of Grade A-(0) having maximum 6 floors, count of Grade B-(1) having maximum 6 floors, count of Grade C-(2) having maximum 4 floors, count of Grade D-(3) having maximum 3 floors and count of Grade E-(4) having nearly same floor 1,2 and 3."
   ]
  },
  {
   "cell_type": "markdown",
   "id": "97171d34",
   "metadata": {},
   "source": [
    "### Conclusion:"
   ]
  },
  {
   "cell_type": "markdown",
   "id": "2cf70a48",
   "metadata": {},
   "source": [
    "\n",
    "- for best model evalution we use four algorithms that's Naive Bayes Gaussian, Decision Tree Classifier, Stacking Classifier and Random Forest Classifier.\n",
    "\n",
    "- from all four algorithms we find Stacking having good accuracy, f1-score, precision score and recall score that's around 86 %."
   ]
  },
  {
   "cell_type": "markdown",
   "id": "4a084d70",
   "metadata": {},
   "source": [
    "# Business Interpretation"
   ]
  },
  {
   "cell_type": "markdown",
   "id": "eebe60f1",
   "metadata": {},
   "source": [
    "- So, As per mention house having Grading system in that grade-A have best house and E have wrost condition.\n",
    "\n",
    "- In dataset availablity of house plot area is 300 to 360 sq-m.\n",
    "\n",
    "- In that Grade A- house consisting 8 to 9 rooms that's availble between 5 to 7 floors of that and for them average price was 4000 to 4500 and total available properties is 399.\n",
    "\n",
    "- now Grade B- house having 7 to 9 rooms that availble on 3 to 7 floor, Average price of them near around 4000 and total availble properties is 539.\n",
    "\n",
    "- Grade C- house having 5 to 9 rooms but from that 7 rooms are more that's availble on 2 to 6 floor, Average price of them less than 4000 and total availble properties is 716.\n",
    "\n",
    "- Grade D- house having 5 to 8 rooms but from that 5 and 6 rooms are more that's availble on 1 to 5 floor, Average price of them less than 3500 and total availble properties is 1270.\n",
    "\n",
    "- Grade E- house having 5 to 6 rooms that's availble between 1 to 3 floor, Average price of them near 3000 and total availble properties is 76.\n",
    "\n",
    "- so on the above business interpretation people can decide which house he/she wants to prefer for buy."
   ]
  },
  {
   "cell_type": "code",
   "execution_count": null,
   "id": "e2c50e71",
   "metadata": {},
   "outputs": [],
   "source": []
  }
 ],
 "metadata": {
  "kernelspec": {
   "display_name": "Python 3 (ipykernel)",
   "language": "python",
   "name": "python3"
  },
  "language_info": {
   "codemirror_mode": {
    "name": "ipython",
    "version": 3
   },
   "file_extension": ".py",
   "mimetype": "text/x-python",
   "name": "python",
   "nbconvert_exporter": "python",
   "pygments_lexer": "ipython3",
   "version": "3.9.13"
  }
 },
 "nbformat": 4,
 "nbformat_minor": 5
}
